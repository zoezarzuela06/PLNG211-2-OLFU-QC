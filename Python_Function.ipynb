{
  "nbformat": 4,
  "nbformat_minor": 0,
  "metadata": {
    "colab": {
      "provenance": [],
      "authorship_tag": "ABX9TyPjBpOBWj6EJbJrFazyBaG/",
      "include_colab_link": true
    },
    "kernelspec": {
      "name": "python3",
      "display_name": "Python 3"
    },
    "language_info": {
      "name": "python"
    }
  },
  "cells": [
    {
      "cell_type": "markdown",
      "metadata": {
        "id": "view-in-github",
        "colab_type": "text"
      },
      "source": [
        "<a href=\"https://colab.research.google.com/github/zoezarzuela06/PLNG211-2-OLFU-QC/blob/main/Python_Function.ipynb\" target=\"_parent\"><img src=\"https://colab.research.google.com/assets/colab-badge.svg\" alt=\"Open In Colab\"/></a>"
      ]
    },
    {
      "cell_type": "code",
      "execution_count": null,
      "metadata": {
        "id": "egh65X0hyhPE"
      },
      "outputs": [],
      "source": [
        "#Creating own function\n",
        "\n",
        "def convert_to_celsius(fahrenheit):\n",
        "  return (fahrenheit-32)*5/9   #(100-32) *5/9\n",
        "\n",
        "fahrenheit = int(input())\n",
        "print(\"Fahrenheit to Celsius: \",round(convert_to_celsius(fahrenheit),2))"
      ]
    },
    {
      "cell_type": "code",
      "source": [
        "#Create a function that will display three consecutive my_function values\n",
        "\n",
        "def my_function(fname):\n",
        "  print(fname+\"Zarzuela\")\n",
        "\n",
        "my_function(\"Zoe \")\n",
        "my_function(\"Maxine \")"
      ],
      "metadata": {
        "colab": {
          "base_uri": "https://localhost:8080/"
        },
        "id": "kvTp_GMpy9Hv",
        "outputId": "33c64157-7554-4806-be1e-5f5dc90d4399"
      },
      "execution_count": null,
      "outputs": [
        {
          "output_type": "stream",
          "name": "stdout",
          "text": [
            "Zoe Zarzuela\n",
            "Maxine Zarzuela\n"
          ]
        }
      ]
    },
    {
      "cell_type": "code",
      "source": [
        "#Create an arithmetic function\n",
        "\n",
        "def myfunction(x):\n",
        "  return 10+x\n",
        "\n",
        "print(myfunction(6))\n",
        "print(myfunction(8))\n",
        "print(myfunction(1))"
      ],
      "metadata": {
        "id": "KboXXZxazNSE"
      },
      "execution_count": null,
      "outputs": []
    },
    {
      "cell_type": "markdown",
      "source": [
        "Exercise #1:"
      ],
      "metadata": {
        "id": "Mx1LtFqU1mMJ"
      }
    },
    {
      "cell_type": "code",
      "source": [
        "def fun(element):\n",
        "  return(len(element))\n",
        "\n",
        "  a = [2, 3, 4]\n",
        "  print(min(a))\n",
        "  b = [2, -3, 4, 7, -5]\n",
        "  print(max(b))\n",
        "  c = [2, -3, min (4,7), 5]\n",
        "  print(max(c))"
      ],
      "metadata": {
        "id": "IXbTr7mF4GkK"
      },
      "execution_count": null,
      "outputs": []
    },
    {
      "cell_type": "markdown",
      "source": [
        "Exercise #2:"
      ],
      "metadata": {
        "id": "1U4vDVaR46Ru"
      }
    },
    {
      "cell_type": "code",
      "source": [
        "import math \n",
        "\n",
        "def sum(firstInt,secondInt,thirdInt):\n",
        "  return firstInt + secondInt + thirdInt\n",
        "def average(firstInt, secondInt,thirdInt):\n",
        "  return firstInt + secondInt +thirdInt\n",
        "def sumSquare(firstInt,secondInt,thirdInt):\n",
        "  return math.pow(firstInt,2) + math.pow(secondInt,2) + math.pow(thirdInt,2)\n",
        "\n",
        "firstInt= int(input())\n",
        "secondInt= int(input())\n",
        "thirdInt= int(input())\n",
        "\n",
        "print(\"Sum= \",sum(firstInt,secondInt,thirdInt))\n",
        "print(\"Average= \",average(firstInt,secondInt,thirdInt))\n",
        "print(\"Sum of Squares= \",sumSquare(firstInt,secondInt,thirdInt))"
      ],
      "metadata": {
        "id": "eekMsVKl48Pn"
      },
      "execution_count": null,
      "outputs": []
    }
  ]
}