{
  "nbformat": 4,
  "nbformat_minor": 0,
  "metadata": {
    "colab": {
      "provenance": [],
      "authorship_tag": "ABX9TyOG92wWLjp2K4Jz2/032/LM",
      "include_colab_link": true
    },
    "kernelspec": {
      "name": "python3",
      "display_name": "Python 3"
    },
    "language_info": {
      "name": "python"
    }
  },
  "cells": [
    {
      "cell_type": "markdown",
      "metadata": {
        "id": "view-in-github",
        "colab_type": "text"
      },
      "source": [
        "<a href=\"https://colab.research.google.com/github/zoezarzuela06/PLNG211-2-OLFU-QC/blob/main/Zarzuela%2C_Zoe_.ipynb\" target=\"_parent\"><img src=\"https://colab.research.google.com/assets/colab-badge.svg\" alt=\"Open In Colab\"/></a>"
      ]
    },
    {
      "cell_type": "code",
      "source": [
        "Rate=600\n",
        "Salary=600*15\n",
        "Taxable=Salary*.03\n",
        "Net=Salary-Taxable\n",
        "print(\"Rate per day:\", Rate)\n",
        "print(\"Salary: \", Salary)\n",
        "print(\"Taxable amount of the Ssalary: \", Tax)\n",
        "print(\"Net Pay: \", Net)\n"
      ],
      "metadata": {
        "colab": {
          "base_uri": "https://localhost:8080/"
        },
        "id": "8Jng48qtPRhX",
        "outputId": "c4b15708-caa9-4bcc-d8f4-aadfcf9c2276"
      },
      "execution_count": 8,
      "outputs": [
        {
          "output_type": "stream",
          "name": "stdout",
          "text": [
            "Rate per day: 600\n",
            "Salary:  9000\n",
            "Taxable amount of the Ssalary:  270.0\n",
            "Net Pay:  8730.0\n"
          ]
        }
      ]
    }
  ]
}