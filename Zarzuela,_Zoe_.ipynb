{
  "nbformat": 4,
  "nbformat_minor": 0,
  "metadata": {
    "colab": {
      "provenance": [],
      "authorship_tag": "ABX9TyPxr1/RJ2L0KzV9je9fwZSy",
      "include_colab_link": true
    },
    "kernelspec": {
      "name": "python3",
      "display_name": "Python 3"
    },
    "language_info": {
      "name": "python"
    }
  },
  "cells": [
    {
      "cell_type": "markdown",
      "metadata": {
        "id": "view-in-github",
        "colab_type": "text"
      },
      "source": [
        "<a href=\"https://colab.research.google.com/github/zoezarzuela06/PLNG211-2-OLFU-QC/blob/main/Zarzuela%2C_Zoe_.ipynb\" target=\"_parent\"><img src=\"https://colab.research.google.com/assets/colab-badge.svg\" alt=\"Open In Colab\"/></a>"
      ]
    },
    {
      "cell_type": "code",
      "source": [
        "\n",
        "print(\"Zoe Maxine Zarzuela\\n\")\n",
        "\n",
        "Rate=600\n",
        "Salary=600*15\n",
        "Taxable=Salary*.30\n",
        "Net=Salary-Taxable\n",
        "print(\"Rate per day:\", Rate)\n",
        "print(\"Salary: \", Salary)\n",
        "print(\"Taxable amount of the Salary: \", Taxable)\n",
        "print(\"Net Pay: \", Net)\n"
      ],
      "metadata": {
        "colab": {
          "base_uri": "https://localhost:8080/"
        },
        "id": "8Jng48qtPRhX",
        "outputId": "6fb832d8-98f2-492b-bddb-8ad4d660fe5f"
      },
      "execution_count": 19,
      "outputs": [
        {
          "output_type": "stream",
          "name": "stdout",
          "text": [
            "Zoe Maxine Zarzuela\n",
            "\n",
            "Rate per day: 600\n",
            "Salary:  9000\n",
            "Taxable amount of the Salary:  2700.0\n",
            "Net Pay:  6300.0\n"
          ]
        }
      ]
    }
  ]
}